{
 "cells": [
  {
   "cell_type": "code",
   "execution_count": 1,
   "id": "1072c380",
   "metadata": {},
   "outputs": [
    {
     "name": "stdout",
     "output_type": "stream",
     "text": [
      "0.0009765625\n"
     ]
    }
   ],
   "source": [
    "## finding of power of an element when n >= 1\n",
    "### time complexity O(logn)\n",
    "### fuction\n",
    "def findpowerofelement(a,n):\n",
    "    ## small problem\n",
    "    if n == 0:\n",
    "        return 1\n",
    "    elif n < 0:\n",
    "        mid = -(n//2)\n",
    "        a = 1/a\n",
    "        b = findpowerofelement(a,mid)\n",
    "        result = b*b\n",
    "        # even\n",
    "        if n%2 == 0:\n",
    "            return result\n",
    "        return result * a    \n",
    "        \n",
    "    if n == 1:\n",
    "        return a\n",
    "    \n",
    "    else:\n",
    "        ## big problem -> divide and conquer approach\n",
    "        mid = n//2\n",
    "        ## resursive call\n",
    "        b = findpowerofelement(a,mid)\n",
    "        result = b*b\n",
    "        # even\n",
    "        if n%2 == 0:\n",
    "            return result\n",
    "        return result * a\n",
    "            \n",
    "\n",
    "\n",
    "### Driver code\n",
    "\n",
    "a = 2 \n",
    "n = -10\n",
    "\n",
    "result = findpowerofelement(a,n)\n",
    "print(result)"
   ]
  },
  {
   "cell_type": "code",
   "execution_count": 3,
   "id": "dcf348bc",
   "metadata": {},
   "outputs": [
    {
     "name": "stdout",
     "output_type": "stream",
     "text": [
      "32\n"
     ]
    }
   ],
   "source": [
    "a = 2\n",
    "n = 5\n",
    "result = findpowerofelement(a,n)\n",
    "print(result)"
   ]
  },
  {
   "cell_type": "code",
   "execution_count": null,
   "id": "b78a5e59",
   "metadata": {},
   "outputs": [],
   "source": []
  }
 ],
 "metadata": {
  "kernelspec": {
   "display_name": "Python 3",
   "language": "python",
   "name": "python3"
  },
  "language_info": {
   "codemirror_mode": {
    "name": "ipython",
    "version": 3
   },
   "file_extension": ".py",
   "mimetype": "text/x-python",
   "name": "python",
   "nbconvert_exporter": "python",
   "pygments_lexer": "ipython3",
   "version": "3.7.6"
  }
 },
 "nbformat": 4,
 "nbformat_minor": 5
}
