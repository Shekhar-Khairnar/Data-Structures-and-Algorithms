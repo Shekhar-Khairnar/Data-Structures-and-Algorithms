{
 "cells": [
  {
   "cell_type": "code",
   "execution_count": 1,
   "id": "b23ca9ba",
   "metadata": {},
   "outputs": [
    {
     "name": "stdout",
     "output_type": "stream",
     "text": [
      "120\n"
     ]
    }
   ],
   "source": [
    "### Finding factorial with Iterative and Recurrsive method\n",
    "\n",
    "# Recursive is easy and requires less lines of code compared to iterative\n",
    "\n",
    "\n",
    "## Iterative Method\n",
    "\n",
    "# Method Definition\n",
    "\n",
    "def factorialiterativeapproach(n):\n",
    "    result = 1\n",
    "    if n > 1:\n",
    "        for i in range(1,n+1):\n",
    "            result = result * i\n",
    "        return result\n",
    "    else:\n",
    "        return -1\n",
    "    \n",
    "## Driver code\n",
    "n = 5\n",
    "result  = factorialiterativeapproach(5)\n",
    "print(result)\n",
    "        "
   ]
  },
  {
   "cell_type": "code",
   "execution_count": 3,
   "id": "5c798d3e",
   "metadata": {},
   "outputs": [
    {
     "name": "stdout",
     "output_type": "stream",
     "text": [
      "120\n"
     ]
    }
   ],
   "source": [
    "### Finding factorial with Iterative and Recurrsive method\n",
    "\n",
    "# Recursive is easy and requires less lines of code compared to iterative\n",
    "\n",
    "\n",
    "## Recursive Method\n",
    "\n",
    "# Method Definition\n",
    "\n",
    "def factorialrecursiveapproach(n):\n",
    "    result = 1\n",
    "    if n == 0 or n == 1 :\n",
    "        return 1\n",
    "    elif n < 0:\n",
    "        return -1\n",
    "    else:\n",
    "        result = n * factorialrecursiveapproach(n-1)\n",
    "    return result\n",
    "    \n",
    "## Driver code\n",
    "n = 5\n",
    "result  = factorialrecursiveapproach(5)\n",
    "print(result)\n",
    "        "
   ]
  },
  {
   "cell_type": "code",
   "execution_count": null,
   "id": "7ced7f9c",
   "metadata": {},
   "outputs": [],
   "source": []
  }
 ],
 "metadata": {
  "kernelspec": {
   "display_name": "Python 3",
   "language": "python",
   "name": "python3"
  },
  "language_info": {
   "codemirror_mode": {
    "name": "ipython",
    "version": 3
   },
   "file_extension": ".py",
   "mimetype": "text/x-python",
   "name": "python",
   "nbconvert_exporter": "python",
   "pygments_lexer": "ipython3",
   "version": "3.7.6"
  }
 },
 "nbformat": 4,
 "nbformat_minor": 5
}
