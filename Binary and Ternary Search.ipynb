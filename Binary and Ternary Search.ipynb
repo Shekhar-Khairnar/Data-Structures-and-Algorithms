{
 "cells": [
  {
   "cell_type": "code",
   "execution_count": 1,
   "id": "f401a3b5",
   "metadata": {},
   "outputs": [],
   "source": [
    "def binaryinfsearch(arr, i, j, x):\n",
    "\n",
    "    while i <= j:\n",
    "        mid = i + (j-i)//2\n",
    "        if arr[mid] == x and arr[mid-1] != x:\n",
    "            return mid\n",
    "        elif arr[mid] != x:\n",
    "            return binaryinfsearch(arr, mid+1, j, x)\n",
    "        else:\n",
    "            return binaryinfsearch(arr, i, mid-1, x)\n",
    "\n",
    "    return -1"
   ]
  },
  {
   "cell_type": "code",
   "execution_count": 2,
   "id": "46c14d13",
   "metadata": {},
   "outputs": [
    {
     "data": {
      "text/plain": [
       "6"
      ]
     },
     "execution_count": 2,
     "metadata": {},
     "output_type": "execute_result"
    }
   ],
   "source": [
    "arr = [5,6,78,8,9,5,'inf']\n",
    "\n",
    "binaryinfsearch(arr,0,len(arr),'inf')"
   ]
  },
  {
   "cell_type": "code",
   "execution_count": 3,
   "id": "e170bc5e",
   "metadata": {},
   "outputs": [
    {
     "name": "stdout",
     "output_type": "stream",
     "text": [
      "True\n"
     ]
    }
   ],
   "source": [
    "#Search in 2D Arracy interview questions\n",
    "\n",
    "def searchsortedmatrix(matrix, target):\n",
    "    ## number of rows\n",
    "    m = len(matrix)\n",
    "    if m == 0:\n",
    "        return False\n",
    "    ##number of columns\n",
    "    n = len(matrix[0])\n",
    "    \n",
    "    \n",
    "    ## binary search implementation\n",
    "    left, right = 0, m*n-1\n",
    "    while left <= right:\n",
    "        mid = left + (right - left)//2\n",
    "        ## extracting the elements from the 2D array\n",
    "        ## row_number = idx // n\n",
    "        ## column_number = idx % n\n",
    "        mid_element = matrix[mid//n][mid%n]\n",
    "        if target == mid_element:\n",
    "            return True\n",
    "        elif target < mid_element:\n",
    "            right = mid-1\n",
    "        else:\n",
    "            left = mid +1\n",
    "    return False\n",
    "\n",
    "\n",
    "\n",
    "\n",
    "matrix = [[1,3,5,7],[10,11,16,20],[22,24,25,26]]\n",
    "\n",
    "target = 3\n",
    "\n",
    "## function calling \n",
    "result = searchsortedmatrix(matrix,target)\n",
    "print(result)"
   ]
  },
  {
   "cell_type": "code",
   "execution_count": 5,
   "id": "bf30f2f5",
   "metadata": {},
   "outputs": [
    {
     "name": "stdout",
     "output_type": "stream",
     "text": [
      "8\n"
     ]
    }
   ],
   "source": [
    "## Ternary Search\n",
    "\n",
    "### Implementation of ternary search (splitting array into 3 parts similar to binary search just instead of one mid we will clculate 2 mids)\n",
    "\n",
    "def ternarysearch(arr,l, r, x):\n",
    "    while l <= r:\n",
    "        mid1 = l + (r-l)//3\n",
    "        mid2 = r - (r-l)//3\n",
    "        \n",
    "        if  x == arr[mid1]:\n",
    "            return mid1\n",
    "        elif x == arr[mid2]:\n",
    "            return mid2\n",
    "        elif x < arr[mid1]:\n",
    "            return ternarysearch(arr,l,mid1-1,x)\n",
    "        elif x > arr[mid2]:\n",
    "            return ternarysearch(arr,mid2+1,r,x)\n",
    "        else:\n",
    "            return ternarysearch(arr,mid1+1,mid2-1,x)\n",
    "    return -1\n",
    "\n",
    "### Driver code\n",
    "\n",
    "arr = [1,2,3,4,5,6,7,8,9,10]\n",
    "\n",
    "l = 0\n",
    "r = len(arr)-1\n",
    "\n",
    "x = 9\n",
    "\n",
    "#function  calling\n",
    "\n",
    "result= ternarysearch(arr,l, r, x)\n",
    "print(result)"
   ]
  },
  {
   "cell_type": "code",
   "execution_count": null,
   "id": "a7725a4c",
   "metadata": {},
   "outputs": [],
   "source": []
  }
 ],
 "metadata": {
  "kernelspec": {
   "display_name": "Python 3",
   "language": "python",
   "name": "python3"
  },
  "language_info": {
   "codemirror_mode": {
    "name": "ipython",
    "version": 3
   },
   "file_extension": ".py",
   "mimetype": "text/x-python",
   "name": "python",
   "nbconvert_exporter": "python",
   "pygments_lexer": "ipython3",
   "version": "3.7.6"
  }
 },
 "nbformat": 4,
 "nbformat_minor": 5
}
