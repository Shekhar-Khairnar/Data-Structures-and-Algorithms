{
 "cells": [
  {
   "cell_type": "code",
   "execution_count": 1,
   "id": "dfa3eaf6",
   "metadata": {},
   "outputs": [
    {
     "name": "stdout",
     "output_type": "stream",
     "text": [
      "85 10\n"
     ]
    }
   ],
   "source": [
    "## time complexity : O(n)\n",
    "### Implementation of finding of maxima and minima using divide and conquer approach\n",
    "\n",
    "def findmaxandmin(arr, i, j):\n",
    "    ## small problem\n",
    "    ## single element present in an array\n",
    "    if i == j:\n",
    "        max_val = arr[i]\n",
    "        min_val = arr[i]\n",
    "    \n",
    "    # two element present in array\n",
    "    elif i == j-1:\n",
    "        if arr[i] < arr[j]:\n",
    "            max_val = arr[j]\n",
    "            min_val = arr[i]\n",
    "        else:\n",
    "            max_val = arr[i]\n",
    "            min_val = arr[j]\n",
    "    \n",
    "    # big probelm -> divide and conquer approach\n",
    "    else:\n",
    "        #divide\n",
    "        mid = i + (j-i)//2\n",
    "        \n",
    "        ## recursion  -> conquer\n",
    "        max_l,min_l = findmaxandmin(arr, i, mid)\n",
    "        max_r,min_r = findmaxandmin(arr, mid+1,j)\n",
    "        ### combine\n",
    "        ## to find final max_val\n",
    "        if max_l < max_r:\n",
    "            max_val = max_r\n",
    "        else:\n",
    "            max_val = max_l\n",
    "        ## to find final min_val\n",
    "        if min_l < min_r:\n",
    "            min_val = min_l\n",
    "        else:\n",
    "            min_val = min_r\n",
    "    return max_val,min_val    \n",
    "        \n",
    "\n",
    "\n",
    "### Driver code \n",
    "arr = [10,70,45,16,29,30,35,20,85]\n",
    "i = 0\n",
    "j = len(arr) - 1\n",
    "## Function calling\n",
    "max_val, min_val = findmaxandmin(arr, i , j)\n",
    "\n",
    "print(max_val,min_val)"
   ]
  },
  {
   "cell_type": "code",
   "execution_count": null,
   "id": "9ec80395",
   "metadata": {},
   "outputs": [],
   "source": []
  }
 ],
 "metadata": {
  "kernelspec": {
   "display_name": "Python 3",
   "language": "python",
   "name": "python3"
  },
  "language_info": {
   "codemirror_mode": {
    "name": "ipython",
    "version": 3
   },
   "file_extension": ".py",
   "mimetype": "text/x-python",
   "name": "python",
   "nbconvert_exporter": "python",
   "pygments_lexer": "ipython3",
   "version": "3.7.6"
  }
 },
 "nbformat": 4,
 "nbformat_minor": 5
}
