{
 "cells": [
  {
   "cell_type": "code",
   "execution_count": 2,
   "id": "314b1c55",
   "metadata": {},
   "outputs": [
    {
     "name": "stdout",
     "output_type": "stream",
     "text": [
      "12  8  9  10  \n",
      "Loop detected inside the linked list\n"
     ]
    }
   ],
   "source": [
    "class Node:\n",
    "    def __init__(self, data):\n",
    "        self.data = data\n",
    "        self.next = None\n",
    "\n",
    "class LinkedList:\n",
    "    def __init__(self):\n",
    "        self.head = None\n",
    "    \n",
    "    ## insert at the front/beginning of the linked list\n",
    "    def insertAtEnd(self, new_data):\n",
    "        ## creation of the new node\n",
    "        new_node = Node(new_data)\n",
    "        \n",
    "        ## linked list is empty\n",
    "        if self.head is None:\n",
    "            self.head = new_node\n",
    "            return\n",
    "        \n",
    "        ## insertion at the end\n",
    "        temp = self.head\n",
    "        while temp.next:\n",
    "            temp = temp.next\n",
    "        \n",
    "        temp.next = new_node\n",
    "    \n",
    "    \n",
    "    # detection of loop inside ll\n",
    "    # floyd's cylce detection algo\n",
    "    def detectloop(self):\n",
    "        hare = self.head\n",
    "        tortoise = self.head\n",
    "        while tortoise and hare and hare.next: #while tortoise, hare and hare.next are not null\n",
    "            hare = hare.next.next\n",
    "            tortoise = tortoise.next\n",
    "            if tortoise == hare:\n",
    "                return True\n",
    "        return False\n",
    "    ## print the linked list\n",
    "    def printList(self):\n",
    "        temp = self.head\n",
    "        while temp:\n",
    "            print(str(temp.data)+\" \",end=\" \")\n",
    "            temp = temp.next\n",
    "   \n",
    "    \n",
    "## Driver code\n",
    "llist = LinkedList()\n",
    "## function calling\n",
    "llist.insertAtEnd(12)\n",
    "llist.insertAtEnd(8)\n",
    "llist.insertAtEnd(9)\n",
    "llist.insertAtEnd(10)\n",
    "\n",
    "llist.printList()\n",
    "\n",
    "\n",
    "llist.head.next.next.next = llist.head\n",
    "\n",
    "print()\n",
    "if llist.detectloop():\n",
    "    print('Loop detected inside the linked list')\n",
    "else:\n",
    "    print('no loop detected')"
   ]
  },
  {
   "cell_type": "code",
   "execution_count": null,
   "id": "22998a62",
   "metadata": {},
   "outputs": [],
   "source": []
  }
 ],
 "metadata": {
  "kernelspec": {
   "display_name": "Python 3",
   "language": "python",
   "name": "python3"
  },
  "language_info": {
   "codemirror_mode": {
    "name": "ipython",
    "version": 3
   },
   "file_extension": ".py",
   "mimetype": "text/x-python",
   "name": "python",
   "nbconvert_exporter": "python",
   "pygments_lexer": "ipython3",
   "version": "3.7.6"
  }
 },
 "nbformat": 4,
 "nbformat_minor": 5
}
