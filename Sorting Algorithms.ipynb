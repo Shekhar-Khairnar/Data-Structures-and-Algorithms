{
 "cells": [
  {
   "cell_type": "code",
   "execution_count": 1,
   "id": "e0c814d6",
   "metadata": {},
   "outputs": [
    {
     "data": {
      "text/plain": [
       "[5, 15, 20, 30, 50, 70, 90]"
      ]
     },
     "execution_count": 1,
     "metadata": {},
     "output_type": "execute_result"
    }
   ],
   "source": [
    "## time complexity : O(n^2)\n",
    "\n",
    "### BUBBLE SORT ALGORITHM (comparison based sorting algorithm)\n",
    "\n",
    "\n",
    "arr = [70,20,50,30,90,5,15]\n",
    "\n",
    "\n",
    "def bubblesort(arr):\n",
    "    for i in range(len(arr)):\n",
    "        for j in range(len(arr)-i-1):\n",
    "            if arr[j] > arr[j+1]:\n",
    "                arr[j],arr[j+1] = arr[j+1],arr[j]\n",
    "    return arr\n",
    "\n",
    "bubblesort(arr)"
   ]
  },
  {
   "cell_type": "code",
   "execution_count": 2,
   "id": "067a92f7",
   "metadata": {},
   "outputs": [
    {
     "name": "stdout",
     "output_type": "stream",
     "text": [
      "[11, 17, 20, 29, 37, 38, 50, 75]\n"
     ]
    }
   ],
   "source": [
    "## time complexity : O(n^2)\n",
    "\n",
    "\n",
    "#### Selection sort implementATION\n",
    "\n",
    "def selectionsort(arr):\n",
    "    n = len(arr)\n",
    "    for i in range(n):\n",
    "        ## to store the index of min indexd\n",
    "        min_idx = i\n",
    "        for j in range(i+1,n):\n",
    "            if arr[j] < arr[min_idx]:\n",
    "                min_idx = j\n",
    "        ## swap of the elements fat i and min_idx\n",
    "        arr[i],arr[min_idx] = arr[min_idx],arr[i]\n",
    "\n",
    "\n",
    "    return arr\n",
    "\n",
    "### Driver Code\n",
    "arr = [50,38,75,29,11,17,20,37]\n",
    "\n",
    "##Function Calling\n",
    "result = selectionsort(arr)\n",
    "print(result)\n"
   ]
  },
  {
   "cell_type": "code",
   "execution_count": 3,
   "id": "b89c2d2e",
   "metadata": {},
   "outputs": [
    {
     "name": "stdout",
     "output_type": "stream",
     "text": [
      "[1, 3, 4, 5, 9]\n"
     ]
    }
   ],
   "source": [
    "#### Insertion sort algo\n",
    "\n",
    "# best case time complexity = O(n) (ascending order array or almost sorted array)\n",
    "\n",
    "# worst case time complexity = O(n^2) (descending order)\n",
    "\n",
    "\n",
    "def insertionsort(arr):\n",
    "    for i in range(1,len(arr)):\n",
    "            key = arr[i]\n",
    "            j = i-1\n",
    "            \n",
    "            while j>=0 and key<arr[j]:\n",
    "                arr[j+1] = arr[j]\n",
    "                j = j-1\n",
    "            \n",
    "            arr[j+1] = key                \n",
    "    return arr        \n",
    "                \n",
    "\n",
    "\n",
    "# Driver Code\n",
    "\n",
    "arr = [ 9,5,1,4,3]\n",
    "# function calling\n",
    "\n",
    "result = insertionsort(arr)\n",
    "print(result)"
   ]
  },
  {
   "cell_type": "code",
   "execution_count": null,
   "id": "25fb641c",
   "metadata": {},
   "outputs": [],
   "source": []
  }
 ],
 "metadata": {
  "kernelspec": {
   "display_name": "Python 3",
   "language": "python",
   "name": "python3"
  },
  "language_info": {
   "codemirror_mode": {
    "name": "ipython",
    "version": 3
   },
   "file_extension": ".py",
   "mimetype": "text/x-python",
   "name": "python",
   "nbconvert_exporter": "python",
   "pygments_lexer": "ipython3",
   "version": "3.7.6"
  }
 },
 "nbformat": 4,
 "nbformat_minor": 5
}
