{
 "cells": [
  {
   "cell_type": "code",
   "execution_count": 1,
   "id": "073816a2",
   "metadata": {},
   "outputs": [
    {
     "name": "stdout",
     "output_type": "stream",
     "text": [
      "2  52  82  12  "
     ]
    }
   ],
   "source": [
    "### Linked List is a linear data structure but it is not in a contiguous manner i.e adjacent\n",
    "\n",
    "## In LL we use more space compared to array DS.\n",
    "\n",
    "## when we need to do lot of insertion or deletion we need to use linked list\n",
    "\n",
    "\n",
    "## when searching operation is more frequent than insertion/deletion then array DS is used where random access is availabe\n",
    " \n",
    "## In array DS binary search is possible which has O(log n) complexity, while in LL only linear search is possible which has O(n) complexity    \n",
    "\n",
    "\n",
    "\n",
    "class node:\n",
    "    def __init__(self,data):\n",
    "        self.data = data\n",
    "        self.head = None\n",
    "        \n",
    "class Linkedlist:\n",
    "    def __init__(self):\n",
    "        self.head = None\n",
    "        \n",
    "    def insertatbeginning(self,new_data):\n",
    "        # creation of new node\n",
    "        new_node = node(new_data)\n",
    "        ## inserion at the beginning\n",
    "        new_node.next = self.head\n",
    "        self.head = new_node\n",
    "        \n",
    "    def printlist(self):\n",
    "        temp = self.head\n",
    "        while temp:\n",
    "            print(str(temp.data) + \" \",end=' ')\n",
    "            temp = temp.next\n",
    "            \n",
    "# driver code\n",
    "llist = Linkedlist()\n",
    "\n",
    "##function call\n",
    "\n",
    "llist.insertatbeginning(12)\n",
    "llist.insertatbeginning(82)\n",
    "llist.insertatbeginning(52)\n",
    "llist.insertatbeginning(2)\n",
    "\n",
    "llist.printlist()\n",
    "\n",
    "\n",
    "\n"
   ]
  },
  {
   "cell_type": "code",
   "execution_count": 2,
   "id": "6187a2e7",
   "metadata": {},
   "outputs": [
    {
     "name": "stdout",
     "output_type": "stream",
     "text": [
      "12  8  52  2  5  89  "
     ]
    }
   ],
   "source": [
    "#insetrion at end of LL \n",
    "\n",
    "\n",
    "class node:\n",
    "    def __init__(self,data):\n",
    "        self.data = data\n",
    "        self.next = None\n",
    "        \n",
    "class Linkedlist:\n",
    "    def __init__(self):\n",
    "        self.head = None\n",
    "        \n",
    "    def insertatend(self, new_data):\n",
    "        # creation of new node\n",
    "        new_node = node(new_data)\n",
    "        \n",
    "        ## LL is e,mpty\n",
    "        if self.head is None:\n",
    "            self.head = new_node\n",
    "            return\n",
    "        \n",
    "        ## inserion at the end\n",
    "        temp = self.head\n",
    "        while temp.next:\n",
    "            temp = temp.next\n",
    "            \n",
    "        temp.next = new_node\n",
    "            \n",
    "            \n",
    "    def printlist(self):\n",
    "        temp = self.head\n",
    "        while temp:\n",
    "            print(str(temp.data) + \" \",end=' ')\n",
    "            temp = temp.next\n",
    "            \n",
    "# driver code\n",
    "llist = Linkedlist()\n",
    "\n",
    "##function call\n",
    "\n",
    "llist.insertatend(12)\n",
    "llist.insertatend(8)\n",
    "llist.insertatend(52)\n",
    "llist.insertatend(2)\n",
    "llist.insertatend(5)\n",
    "llist.insertatend(89)\n",
    "\n",
    "llist.printlist()\n"
   ]
  },
  {
   "cell_type": "code",
   "execution_count": null,
   "id": "deb5ee54",
   "metadata": {},
   "outputs": [],
   "source": []
  }
 ],
 "metadata": {
  "kernelspec": {
   "display_name": "Python 3",
   "language": "python",
   "name": "python3"
  },
  "language_info": {
   "codemirror_mode": {
    "name": "ipython",
    "version": 3
   },
   "file_extension": ".py",
   "mimetype": "text/x-python",
   "name": "python",
   "nbconvert_exporter": "python",
   "pygments_lexer": "ipython3",
   "version": "3.7.6"
  }
 },
 "nbformat": 4,
 "nbformat_minor": 5
}
